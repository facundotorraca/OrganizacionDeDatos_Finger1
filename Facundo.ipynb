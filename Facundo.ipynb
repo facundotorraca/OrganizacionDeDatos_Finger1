{
 "cells": [
  {
   "cell_type": "code",
   "execution_count": 1,
   "metadata": {},
   "outputs": [],
   "source": [
    "import pandas as pd\n",
    "import numpy as np\n",
    "import datetime as dt\n",
    "import time as tm\n",
    "import matplotlib.pyplot as plt"
   ]
  },
  {
   "cell_type": "code",
   "execution_count": 2,
   "metadata": {
    "slideshow": {
     "slide_type": "-"
    }
   },
   "outputs": [],
   "source": [
    "#------------df_auc------------#\n",
    "# Memory before: 2563842869 MB\n",
    "# Memory after:  1898419057 MB\n",
    "\n",
    "#------------df_clk------------#\n",
    "# Memory before: 8063486 MB\n",
    "# Memory after:  6298107 MB\n",
    "\n",
    "#------------df_evt------------#\n",
    "# Memory before: 1016740496 MB\n",
    "# Memory after:   671254666 MB\n",
    "\n",
    "#------------df_evt------------#\n",
    "# Memory before: 1536659 MB\n",
    "# Memory after:   939934 MB"
   ]
  },
  {
   "cell_type": "code",
   "execution_count": 3,
   "metadata": {},
   "outputs": [],
   "source": [
    "loc_df = r\"C:\\Users\\FacundoTorraca\\Documents\\Facultad\\Organizacion de Datos\\Trabajo Practico 1\\CSV\""
   ]
  },
  {
   "cell_type": "code",
   "execution_count": 4,
   "metadata": {},
   "outputs": [],
   "source": [
    "dtypes_auc = { \"auction_type_id\": np.float16, \"country\": \"category\", \"platform\": \"category\", \"ref_type_id\": \"category\", \n",
    "               \"source_id\": \"category\", \"device_id\": \"category\" }\n",
    "\n",
    "dtypes_clk = { \"advertiser_id\": np.int8, \"action_id\": np.float16, \"source_id\": np.int8, \"country_code\": \"category\", \n",
    "               \"latitude\": np.float16, \"longitude\": np.float16, \"wifi_connection\": \"category\", \"carrier_id\": np.float16,\n",
    "               \"trans_id\": \"object\", \"os_major\":np.float32, \"brand\": np.float16, \"touchX\": np.float16,\n",
    "               \"touchY\": np.float16  }\n",
    "\n",
    "dtypes_evt = { \"event_id\":np.int32, \"application_id\": np.int32, \"attributed\":\"category\", \"device_countrycode\":\"category\",\n",
    "               \"device_os_version\":\"category\", \"device_brand\": np.float32, \"device_model\": \"category\",\n",
    "               \"device_city\":\"category\", \"session_user_agent\":\"category\", \"user_agent\":np.float32, \"carrier\":\"category\",\n",
    "               \"kind\":\"category\", \"wifi\":\"category\", \"connection_type\":\"category\", \"device_language\":\"category\",\n",
    "               \"trans_id\":\"object\" }\n",
    "\n",
    "dtypes_ins = { \"application_id\":\"category\", \"ref_type\":\"category\", \"click_hash\":np.float16, \n",
    "               \"device_countrycode\":\"category\", \"device_brand\": np.float32, \"session_user_agent\":\"category\",\n",
    "               \"kind\":\"category\", \"wifi\":\"category\", \"device_language\":\"category\"}"
   ]
  },
  {
   "cell_type": "code",
   "execution_count": 5,
   "metadata": {},
   "outputs": [],
   "source": [
    "df_auc = pd.read_csv( loc_df + \"\\\\auctions.csv.gzip\", compression = \"gzip\", dtype = dtypes_auc )\n",
    "del df_auc[\"auction_type_id\"] #Todo NaN"
   ]
  },
  {
   "cell_type": "code",
   "execution_count": 6,
   "metadata": {},
   "outputs": [],
   "source": [
    "df_clk = pd.read_csv( loc_df + \"\\\\clicks.csv.gzip\", compression = \"gzip\" , dtype = dtypes_clk )"
   ]
  },
  {
   "cell_type": "code",
   "execution_count": 7,
   "metadata": {},
   "outputs": [],
   "source": [
    "df_evt = pd.read_csv( loc_df + \"\\\\events.csv.gzip\", compression = \"gzip\", dtype = dtypes_evt )"
   ]
  },
  {
   "cell_type": "code",
   "execution_count": 8,
   "metadata": {},
   "outputs": [],
   "source": [
    "df_ins = pd.read_csv( loc_df + \"\\\\installs.csv.gzip\", compression = \"gzip\", dtype = dtypes_ins )"
   ]
  },
  {
   "cell_type": "code",
   "execution_count": 9,
   "metadata": {},
   "outputs": [
    {
     "name": "stdout",
     "output_type": "stream",
     "text": [
      "DF_AUC:  Index(['country', 'date', 'device_id', 'platform', 'ref_type_id', 'source_id'], dtype='object')\n",
      " \n",
      "DF_CLK:  Index(['advertiser_id', 'action_id', 'source_id', 'created', 'country_code',\n",
      "       'latitude', 'longitude', 'wifi_connection', 'carrier_id', 'trans_id',\n",
      "       'os_minor', 'agent_device', 'os_major', 'specs_brand', 'brand',\n",
      "       'timeToClick', 'touchX', 'touchY', 'ref_type', 'ref_hash'],\n",
      "      dtype='object')\n",
      " \n",
      "DF_EVT:  Index(['date', 'event_id', 'ref_type', 'ref_hash', 'application_id',\n",
      "       'attributed', 'device_countrycode', 'device_os_version', 'device_brand',\n",
      "       'device_model', 'device_city', 'session_user_agent', 'trans_id',\n",
      "       'user_agent', 'event_uuid', 'carrier', 'kind', 'device_os', 'wifi',\n",
      "       'connection_type', 'ip_address', 'device_language'],\n",
      "      dtype='object')\n",
      " \n",
      "DF_INS:  Index(['created', 'application_id', 'ref_type', 'ref_hash', 'click_hash',\n",
      "       'attributed', 'implicit', 'device_countrycode', 'device_brand',\n",
      "       'device_model', 'session_user_agent', 'user_agent', 'event_uuid',\n",
      "       'kind', 'wifi', 'trans_id', 'ip_address', 'device_language'],\n",
      "      dtype='object')\n"
     ]
    }
   ],
   "source": [
    "print( \"DF_AUC: \", df_auc.columns )\n",
    "print(\" \")\n",
    "print( \"DF_CLK: \", df_clk.columns )\n",
    "print(\" \")\n",
    "print( \"DF_EVT: \", df_evt.columns )\n",
    "print(\" \")\n",
    "print( \"DF_INS: \", df_ins.columns )"
   ]
  },
  {
   "cell_type": "markdown",
   "metadata": {},
   "source": [
    "# Los 10 dispositivos que mas participaron en subastas"
   ]
  },
  {
   "cell_type": "code",
   "execution_count": 10,
   "metadata": {},
   "outputs": [
    {
     "data": {
      "text/html": [
       "<div>\n",
       "<style scoped>\n",
       "    .dataframe tbody tr th:only-of-type {\n",
       "        vertical-align: middle;\n",
       "    }\n",
       "\n",
       "    .dataframe tbody tr th {\n",
       "        vertical-align: top;\n",
       "    }\n",
       "\n",
       "    .dataframe thead th {\n",
       "        text-align: right;\n",
       "    }\n",
       "</style>\n",
       "<table border=\"1\" class=\"dataframe\">\n",
       "  <thead>\n",
       "    <tr style=\"text-align: right;\">\n",
       "      <th></th>\n",
       "      <th>Reference</th>\n",
       "      <th>Device ID</th>\n",
       "      <th>Total Auctions</th>\n",
       "    </tr>\n",
       "  </thead>\n",
       "  <tbody>\n",
       "    <tr>\n",
       "      <th>0</th>\n",
       "      <td>Device 0</td>\n",
       "      <td>633139769114048761</td>\n",
       "      <td>27762</td>\n",
       "    </tr>\n",
       "    <tr>\n",
       "      <th>1</th>\n",
       "      <td>Device 1</td>\n",
       "      <td>7202276635029175071</td>\n",
       "      <td>23055</td>\n",
       "    </tr>\n",
       "    <tr>\n",
       "      <th>2</th>\n",
       "      <td>Device 2</td>\n",
       "      <td>7298861376107043945</td>\n",
       "      <td>18188</td>\n",
       "    </tr>\n",
       "    <tr>\n",
       "      <th>3</th>\n",
       "      <td>Device 3</td>\n",
       "      <td>6302840482782120473</td>\n",
       "      <td>16400</td>\n",
       "    </tr>\n",
       "    <tr>\n",
       "      <th>4</th>\n",
       "      <td>Device 4</td>\n",
       "      <td>5376802567578262905</td>\n",
       "      <td>16367</td>\n",
       "    </tr>\n",
       "    <tr>\n",
       "      <th>5</th>\n",
       "      <td>Device 5</td>\n",
       "      <td>8963711959081981780</td>\n",
       "      <td>14362</td>\n",
       "    </tr>\n",
       "    <tr>\n",
       "      <th>6</th>\n",
       "      <td>Device 6</td>\n",
       "      <td>795159065504552200</td>\n",
       "      <td>12275</td>\n",
       "    </tr>\n",
       "    <tr>\n",
       "      <th>7</th>\n",
       "      <td>Device 7</td>\n",
       "      <td>6841615430383729819</td>\n",
       "      <td>12077</td>\n",
       "    </tr>\n",
       "    <tr>\n",
       "      <th>8</th>\n",
       "      <td>Device 8</td>\n",
       "      <td>5384039226444052914</td>\n",
       "      <td>11632</td>\n",
       "    </tr>\n",
       "    <tr>\n",
       "      <th>9</th>\n",
       "      <td>Device 9</td>\n",
       "      <td>3198179064438296471</td>\n",
       "      <td>11565</td>\n",
       "    </tr>\n",
       "  </tbody>\n",
       "</table>\n",
       "</div>"
      ],
      "text/plain": [
       "  Reference            Device ID  Total Auctions\n",
       "0  Device 0   633139769114048761           27762\n",
       "1  Device 1  7202276635029175071           23055\n",
       "2  Device 2  7298861376107043945           18188\n",
       "3  Device 3  6302840482782120473           16400\n",
       "4  Device 4  5376802567578262905           16367\n",
       "5  Device 5  8963711959081981780           14362\n",
       "6  Device 6   795159065504552200           12275\n",
       "7  Device 7  6841615430383729819           12077\n",
       "8  Device 8  5384039226444052914           11632\n",
       "9  Device 9  3198179064438296471           11565"
      ]
     },
     "execution_count": 10,
     "metadata": {},
     "output_type": "execute_result"
    }
   ],
   "source": [
    "ten_main_devices = df_auc[\"device_id\"].value_counts().head( 10 ).to_frame().reset_index()\n",
    "ten_main_devices.columns = [\"Device ID\", \"Total Auctions\"]\n",
    "ten_main_devices[\"Reference\"] = [ (\"Device \" + str( i ) ) for i in range(0, 10) ]\n",
    "ten_main_devices = ten_main_devices[ [\"Reference\", \"Device ID\", \"Total Auctions\"] ]\n",
    "ten_main_devices"
   ]
  },
  {
   "cell_type": "code",
   "execution_count": 11,
   "metadata": {},
   "outputs": [
    {
     "data": {
      "image/png": "[encoded data removed]",
      "text/plain": [
       "<Figure size 720x360 with 1 Axes>"
      ]
     },
     "metadata": {
      "needs_background": "light"
     },
     "output_type": "display_data"
    }
   ],
   "source": [
    "ax_1 = ten_main_devices.plot( kind = \"bar\", x = \"Reference\", y = \"Total Auctions\", grid = True, figsize = (10,5) );\n",
    "ax_1.grid( linestyle = \"-.\", linewidth = 0.5 )\n",
    "ax_1.set_xlabel( \"\" )\n",
    "ax_1.set_ylabel( \"Total Acution \" )\n",
    "ax_1.get_legend().remove()"
   ]
  },
  {
   "cell_type": "markdown",
   "metadata": {},
   "source": [
    "# Relacion subastas participadas y numeros de clicks en intervalos de media hora"
   ]
  },
  {
   "cell_type": "code",
   "execution_count": 12,
   "metadata": {},
   "outputs": [],
   "source": [
    "#-------------------------------------------------------------Herramientas de Seleccion----------------------------------------------------------------------#\n",
    "start = dt.datetime(1900, 1, 1, 0, 0, 0) #No importa el año\n",
    "start_def = dt.datetime(1900, 1, 1, 0, 30, 0) #No importa el año\n",
    "array_time = [ (start + dt.timedelta(minutes = 30 * x) ).time() for x in range(0, 48) ] \n",
    "array_time_def = [ (start_def + dt.timedelta(minutes = 30 * x) ).time() for x in range(0, 48) ]\n",
    "time_range = list( zip( array_time, array_time_def ) )\n",
    "\n",
    "start_interval = dt.datetime(2019, 3, 1, 0, 0, 0)\n",
    "interval = np.array( [ (start_interval + dt.timedelta(minutes = 30 * x) ) for x in range(0, 49) ] )\n",
    "#-------------------------------------------------------------------------------------------------------------------------------------------------------------#"
   ]
  },
  {
   "cell_type": "code",
   "execution_count": 13,
   "metadata": {},
   "outputs": [],
   "source": [
    "df_auc[\"date\"] = pd.to_datetime( df_auc[\"date\"], errors = \"coerce\" )"
   ]
  },
  {
   "cell_type": "code",
   "execution_count": null,
   "metadata": {},
   "outputs": [],
   "source": [
    "df_auc_modified = df_auc[\"date\"].apply( lambda x: x.replace( day = 1 ) ).to_frame() #Reemplaza para que se pueda usar los bins"
   ]
  },
  {
   "cell_type": "code",
   "execution_count": null,
   "metadata": {},
   "outputs": [],
   "source": [
    "df_auc_modified = pd.cut( df_auc_modified[\"date\"], interval ).value_counts().to_frame()\n",
    "df_auc_modified = df_auc_modified.reset_index()\n",
    "df_auc_modified.sort_values( by = \"index\", inplace = True )\n",
    "df_auc_modified[\"Time Range\"] = time_range\n",
    "del df_auc_modified[\"index\"]\n",
    "df_auc_modified.columns = [ \"Number Auctions\", \"Time Range\"]\n",
    "df_auc_modified = df_auc_modified[ [\"Time Range\", \"Number Auctions\"] ]"
   ]
  },
  {
   "cell_type": "code",
   "execution_count": null,
   "metadata": {},
   "outputs": [],
   "source": [
    "df_clk[\"created\"] = pd.to_datetime( df_clk[\"created\"], errors = \"coerce\" )\n",
    "df_clk_modified = df_clk[\"created\"].apply( lambda x: x.replace( day = 1 ) ).to_frame() #Reemplaza para que se pueda usar los bins"
   ]
  },
  {
   "cell_type": "code",
   "execution_count": null,
   "metadata": {},
   "outputs": [],
   "source": [
    "df_clk_modified = pd.cut( df_clk_modified[\"created\"], interval ).value_counts().to_frame()\n",
    "df_clk_modified = df_clk_modified.reset_index()\n",
    "df_clk_modified.sort_values( by = \"index\", inplace = True )\n",
    "df_clk_modified[\"Time Range\"] = time_range\n",
    "del df_clk_modified[\"index\"]\n",
    "df_clk_modified.columns = [ \"Number Clicks\", \"Time Range\" ]"
   ]
  },
  {
   "cell_type": "code",
   "execution_count": null,
   "metadata": {},
   "outputs": [],
   "source": [
    "merge_auc_clk = df_auc_modified.merge( df_clk_modified, how = \"inner\" )"
   ]
  },
  {
   "cell_type": "code",
   "execution_count": null,
   "metadata": {},
   "outputs": [],
   "source": [
    "merge_auc_clk.head()"
   ]
  },
  {
   "cell_type": "code",
   "execution_count": null,
   "metadata": {},
   "outputs": [],
   "source": [
    "fig = plt.figure( figsize = (15,5) )\n",
    "\n",
    "# Divide the figure into a 1x2 grid, and give me the first section\n",
    "ax_1 = fig.add_subplot(1,2,1)\n",
    "\n",
    "# Divide the figure into a 1x2 grid, and give me the second section\n",
    "ax_2 = fig.add_subplot(1,2,2)\n",
    "\n",
    "\n",
    "title_1 = \"10 rangos horarios en que mas se realizaron subastas\"\n",
    "title_2 = \"10 rangos horarios en que mas se realizaron clicks\"\n",
    "\n",
    "color_auc = [\"dodgerblue\", \"gold\", \"seagreen\", \"deeppink\", \"grey\", \"darkorange\", \"brown\", \"violet\", \"red\", \"cyan\"]\n",
    "color_clk = [\"dodgerblue\", \"deeppink\", \"gold\", \"darkorange\", \"grey\", \"brown\", \"black\", \"black\", \"black\", \"black\"]\n",
    "\n",
    "merge_auc_clk.nlargest( columns = \"Number Auctions\", n = 10 ).plot( kind= \"bar\", x = 'Time Range', y = \"Number Auctions\", grid = True, ax = ax_1, legend = False, color = color_auc )\n",
    "merge_auc_clk.nlargest( columns = \"Number Clicks\", n = 10 ).plot( kind= \"bar\", x = 'Time Range', y = \"Number Clicks\", grid = True, ax = ax_2, legend = False, color = color_clk )\n",
    "\n",
    "ax_1.set_ylabel( \"Number of Acutions\")\n",
    "ax_1.set_title( title_1 )\n",
    "ax_2.set_ylabel( \"Number of ClickS\")\n",
    "ax_2.set_title( title_2 );"
   ]
  },
  {
   "cell_type": "markdown",
   "metadata": {},
   "source": [
    "### Pero si analizamos la efectivad"
   ]
  },
  {
   "cell_type": "code",
   "execution_count": null,
   "metadata": {},
   "outputs": [],
   "source": [
    "#El color estan matcheados bien, el negro significa que no esta representado en los 2 graficos de arriba"
   ]
  },
  {
   "cell_type": "code",
   "execution_count": null,
   "metadata": {},
   "outputs": [],
   "source": [
    "merge_auc_clk[\"Effectiveness\"] = merge_auc_clk[\"Number Clicks\"] / merge_auc_clk[\"Number Auctions\"]"
   ]
  },
  {
   "cell_type": "code",
   "execution_count": null,
   "metadata": {},
   "outputs": [],
   "source": [
    "color=[\"dodgerblue\", \"deeppink\", \"black\", \"black\", \"black\", \"gold\", \"darkorange\", \"black\", \"black\", \"black\"]\n",
    "ax_3 = merge_auc_clk.nlargest( columns = \"Effectiveness\", n = 10 ).plot( kind= \"bar\", x = 'Time Range', y = \"Effectiveness\", grid = True, legend = False, figsize = (15,5), color = color ); \n",
    "ax_3.set_ylabel( \"Clicks / Auctions\");"
   ]
  },
  {
   "cell_type": "markdown",
   "metadata": {},
   "source": [
    "# Clicks"
   ]
  },
  {
   "cell_type": "code",
   "execution_count": null,
   "metadata": {},
   "outputs": [],
   "source": [
    "df_clk_pos = df_clk[ [\"touchX\", \"touchY\"] ]"
   ]
  }
 ],
 "metadata": {
  "kernelspec": {
   "display_name": "Python 3",
   "language": "python",
   "name": "python3"
  },
  "language_info": {
   "codemirror_mode": {
    "name": "ipython",
    "version": 3
   },
   "file_extension": ".py",
   "mimetype": "text/x-python",
   "name": "python",
   "nbconvert_exporter": "python",
   "pygments_lexer": "ipython3",
   "version": "3.7.0"
  }
 },
 "nbformat": 4,
 "nbformat_minor": 2
}
